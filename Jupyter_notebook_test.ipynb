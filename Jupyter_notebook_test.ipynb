{
 "cells": [
  {
   "cell_type": "code",
   "execution_count": 1,
   "id": "436ee079",
   "metadata": {},
   "outputs": [],
   "source": [
    "new_numbers = [1, 2, 3, 4, 5]"
   ]
  },
  {
   "cell_type": "code",
   "execution_count": 2,
   "id": "eb693930",
   "metadata": {},
   "outputs": [
    {
     "name": "stdout",
     "output_type": "stream",
     "text": [
      "[1, 2, 3, 4, 5]\n"
     ]
    }
   ],
   "source": [
    "print(new_numbers)"
   ]
  },
  {
   "cell_type": "code",
   "execution_count": 3,
   "id": "759a17fe",
   "metadata": {},
   "outputs": [
    {
     "name": "stdout",
     "output_type": "stream",
     "text": [
      "11\n",
      "12\n",
      "13\n",
      "14\n",
      "15\n"
     ]
    }
   ],
   "source": [
    "for i in new_numbers:\n",
    "    print(i + 10)"
   ]
  },
  {
   "cell_type": "code",
   "execution_count": 4,
   "id": "f921de58",
   "metadata": {},
   "outputs": [],
   "source": [
    "new_numbers.insert(2, -5)"
   ]
  },
  {
   "cell_type": "code",
   "execution_count": 5,
   "id": "1da03dfc",
   "metadata": {},
   "outputs": [
    {
     "name": "stdout",
     "output_type": "stream",
     "text": [
      "[1, 2, -5, 3, 4, 5]\n"
     ]
    }
   ],
   "source": [
    "print(new_numbers)"
   ]
  },
  {
   "cell_type": "code",
   "execution_count": 6,
   "id": "573b5ed9",
   "metadata": {},
   "outputs": [],
   "source": [
    "new_numbers.append(-7)"
   ]
  },
  {
   "cell_type": "code",
   "execution_count": 7,
   "id": "55ddcd18",
   "metadata": {},
   "outputs": [
    {
     "name": "stdout",
     "output_type": "stream",
     "text": [
      "[1, 2, -5, 3, 4, 5, -7]\n"
     ]
    }
   ],
   "source": [
    "print(new_numbers)"
   ]
  },
  {
   "cell_type": "code",
   "execution_count": 8,
   "id": "2c361924",
   "metadata": {},
   "outputs": [],
   "source": [
    "new_numbers.sort(reverse = True)"
   ]
  },
  {
   "cell_type": "code",
   "execution_count": 9,
   "id": "9e829de5",
   "metadata": {},
   "outputs": [
    {
     "name": "stdout",
     "output_type": "stream",
     "text": [
      "[5, 4, 3, 2, 1, -5, -7]\n"
     ]
    }
   ],
   "source": [
    "print(new_numbers)"
   ]
  },
  {
   "cell_type": "code",
   "execution_count": 12,
   "id": "609943a0",
   "metadata": {},
   "outputs": [
    {
     "name": "stdout",
     "output_type": "stream",
     "text": [
      "[5, 4, 3, 2, 1, -5, -7]\n"
     ]
    }
   ],
   "source": [
    "print(new_numbers)"
   ]
  },
  {
   "cell_type": "markdown",
   "id": "399e462a",
   "metadata": {},
   "source": [
    "# This is a Heading. Below this line there is a picture from the web. #"
   ]
  },
  {
   "cell_type": "markdown",
   "id": "058f560c",
   "metadata": {},
   "source": [
    "![Codecademy_picture](https://i.pcmag.com/imagery/reviews/05XBKmNFYeHCMIn726Nohqb-10.fit_scale.size_1028x578.v1627594235.png)"
   ]
  },
  {
   "cell_type": "markdown",
   "id": "ef6b3b15",
   "metadata": {},
   "source": [
    "# This size is the biggest in text. #"
   ]
  },
  {
   "cell_type": "markdown",
   "id": "477c4e17",
   "metadata": {},
   "source": [
    "*This is emphasized.*"
   ]
  },
  {
   "cell_type": "markdown",
   "id": "b6d4b787",
   "metadata": {},
   "source": [
    "**This is bold.**"
   ]
  },
  {
   "cell_type": "markdown",
   "id": "6a7ea083",
   "metadata": {},
   "source": [
    "`This is white with grey background.`"
   ]
  },
  {
   "cell_type": "markdown",
   "id": "c7774a48",
   "metadata": {},
   "source": [
    "***<br>This is breaking the line."
   ]
  },
  {
   "cell_type": "markdown",
   "id": "e552f226",
   "metadata": {},
   "source": []
  },
  {
   "cell_type": "code",
   "execution_count": 21,
   "id": "65a56051",
   "metadata": {},
   "outputs": [
    {
     "ename": "ZeroDivisionError",
     "evalue": "division by zero",
     "output_type": "error",
     "traceback": [
      "\u001b[1;31m---------------------------------------------------------------------------\u001b[0m",
      "\u001b[1;31mZeroDivisionError\u001b[0m                         Traceback (most recent call last)",
      "Cell \u001b[1;32mIn[21], line 3\u001b[0m\n\u001b[0;32m      1\u001b[0m x \u001b[38;5;241m=\u001b[39m \u001b[38;5;241m1\u001b[39m\u001b[38;5;241m+\u001b[39m\u001b[38;5;241m1\u001b[39m\n\u001b[0;32m      2\u001b[0m y \u001b[38;5;241m=\u001b[39m \u001b[38;5;241m1\u001b[39m\u001b[38;5;241m-\u001b[39m\u001b[38;5;241m1\u001b[39m\n\u001b[1;32m----> 3\u001b[0m z \u001b[38;5;241m=\u001b[39m \u001b[43mx\u001b[49m\u001b[38;5;241;43m/\u001b[39;49m\u001b[43my\u001b[49m\n\u001b[0;32m      4\u001b[0m \u001b[38;5;28mprint\u001b[39m(z)\n",
      "\u001b[1;31mZeroDivisionError\u001b[0m: division by zero"
     ]
    }
   ],
   "source": [
    "x = 1+1\n",
    "y = 1-1\n",
    "z = x/y\n",
    "print(z)"
   ]
  },
  {
   "cell_type": "code",
   "execution_count": 22,
   "id": "28035dce",
   "metadata": {},
   "outputs": [
    {
     "name": "stdout",
     "output_type": "stream",
     "text": [
      "> \u001b[1;32mc:\\users\\stank\\appdata\\local\\temp\\ipykernel_22104\\4113858126.py\u001b[0m(3)\u001b[0;36m<module>\u001b[1;34m()\u001b[0m\n",
      "\n",
      "ipdb> x\n",
      "2\n",
      "ipdb> y\n",
      "0\n",
      "ipdb> exit()\n"
     ]
    }
   ],
   "source": [
    "%debug"
   ]
  },
  {
   "cell_type": "markdown",
   "id": "66bac923",
   "metadata": {},
   "source": [
    "Stages of steak doneness:\n",
    "\n",
    "- Blue (bleu),\n",
    "- Rare,\n",
    "- Medium Rare,\n",
    "- Medium,\n",
    "- Medium Well,\n",
    "- Well Done."
   ]
  },
  {
   "cell_type": "markdown",
   "id": "128894f7",
   "metadata": {},
   "source": [
    "Here is the link to Codecademy Learning Page: [Codecademy_Home_Page](https://www.codecademy.com/learn)"
   ]
  },
  {
   "cell_type": "markdown",
   "id": "e56e1a5b",
   "metadata": {},
   "source": [
    "# This practicing is more than intereseting. #"
   ]
  },
  {
   "cell_type": "markdown",
   "id": "d96ce6db",
   "metadata": {},
   "source": [
    "$$2x+3y=z$$"
   ]
  },
  {
   "cell_type": "markdown",
   "id": "ed232c1f",
   "metadata": {},
   "source": [
    "$$F(k) = \\int_{-\\infty}^{\\infty} f(x) e^{2\\pi i k} dx$$"
   ]
  },
  {
   "cell_type": "markdown",
   "id": "35fc6aa7",
   "metadata": {},
   "source": [
    "$$z=\\dfrac{2x}{3y}$$"
   ]
  },
  {
   "cell_type": "code",
   "execution_count": 29,
   "id": "f17b96e3",
   "metadata": {},
   "outputs": [],
   "source": [
    "import pandas as pd"
   ]
  },
  {
   "cell_type": "code",
   "execution_count": 30,
   "id": "86d52e4d",
   "metadata": {},
   "outputs": [
    {
     "data": {
      "text/html": [
       "<div>\n",
       "<style scoped>\n",
       "    .dataframe tbody tr th:only-of-type {\n",
       "        vertical-align: middle;\n",
       "    }\n",
       "\n",
       "    .dataframe tbody tr th {\n",
       "        vertical-align: top;\n",
       "    }\n",
       "\n",
       "    .dataframe thead th {\n",
       "        text-align: right;\n",
       "    }\n",
       "</style>\n",
       "<table border=\"1\" class=\"dataframe\">\n",
       "  <thead>\n",
       "    <tr style=\"text-align: right;\">\n",
       "      <th></th>\n",
       "      <th>0</th>\n",
       "    </tr>\n",
       "  </thead>\n",
       "  <tbody>\n",
       "    <tr>\n",
       "      <th>0</th>\n",
       "      <td>5</td>\n",
       "    </tr>\n",
       "    <tr>\n",
       "      <th>1</th>\n",
       "      <td>4</td>\n",
       "    </tr>\n",
       "    <tr>\n",
       "      <th>2</th>\n",
       "      <td>3</td>\n",
       "    </tr>\n",
       "    <tr>\n",
       "      <th>3</th>\n",
       "      <td>2</td>\n",
       "    </tr>\n",
       "    <tr>\n",
       "      <th>4</th>\n",
       "      <td>1</td>\n",
       "    </tr>\n",
       "    <tr>\n",
       "      <th>5</th>\n",
       "      <td>-5</td>\n",
       "    </tr>\n",
       "    <tr>\n",
       "      <th>6</th>\n",
       "      <td>-7</td>\n",
       "    </tr>\n",
       "  </tbody>\n",
       "</table>\n",
       "</div>"
      ],
      "text/plain": [
       "   0\n",
       "0  5\n",
       "1  4\n",
       "2  3\n",
       "3  2\n",
       "4  1\n",
       "5 -5\n",
       "6 -7"
      ]
     },
     "execution_count": 30,
     "metadata": {},
     "output_type": "execute_result"
    }
   ],
   "source": [
    "pd.DataFrame(new_numbers)"
   ]
  },
  {
   "cell_type": "code",
   "execution_count": null,
   "id": "f9198005",
   "metadata": {},
   "outputs": [],
   "source": []
  }
 ],
 "metadata": {
  "kernelspec": {
   "display_name": "Python 3 (ipykernel)",
   "language": "python",
   "name": "python3"
  },
  "language_info": {
   "codemirror_mode": {
    "name": "ipython",
    "version": 3
   },
   "file_extension": ".py",
   "mimetype": "text/x-python",
   "name": "python",
   "nbconvert_exporter": "python",
   "pygments_lexer": "ipython3",
   "version": "3.10.9"
  }
 },
 "nbformat": 4,
 "nbformat_minor": 5
}
