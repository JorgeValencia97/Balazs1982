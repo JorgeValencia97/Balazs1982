{
 "cells": [
  {
   "cell_type": "code",
   "execution_count": 1,
   "metadata": {},
   "outputs": [
    {
     "name": "stdout",
     "output_type": "stream",
     "text": [
      "3\n",
      "6\n",
      "0\n",
      "5\n",
      "0\n"
     ]
    }
   ],
   "source": [
    "def getX(x, nums):\n",
    "  for num in nums:\n",
    "    if x in range(1, len(nums) + 1):\n",
    "      return sorted(nums)[x-1]\n",
    "    else:\n",
    "      return 0\n",
    "  if nums == []:\n",
    "    return 0\n",
    "print(getX(2, [6, 3, -1, 5]))\n",
    "print(getX(4, [6, 3, -1, 5]))\n",
    "print(getX(5, [6, 3, -1, 5]))\n",
    "print(getX(5, [2, 3, -1, 5, -1]))\n",
    "print(getX(2, []))\n"
   ]
  },
  {
   "cell_type": "code",
   "execution_count": null,
   "metadata": {},
   "outputs": [],
   "source": []
  }
 ],
 "metadata": {
  "kernelspec": {
   "display_name": "Python 3 (ipykernel)",
   "language": "python",
   "name": "python3"
  },
  "language_info": {
   "codemirror_mode": {
    "name": "ipython",
    "version": 3
   },
   "file_extension": ".py",
   "mimetype": "text/x-python",
   "name": "python",
   "nbconvert_exporter": "python",
   "pygments_lexer": "ipython3",
   "version": "3.10.9"
  }
 },
 "nbformat": 4,
 "nbformat_minor": 4
}
