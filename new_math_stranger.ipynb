{
 "cells": [
  {
   "cell_type": "code",
   "execution_count": null,
   "metadata": {},
   "outputs": [],
   "source": [
    "import time\n",
    "import random\n",
    "\n",
    "\n",
    "def get_divisor(n):\n",
    "    '''\n",
    "    Get a random divisor of n.\n",
    "    :param n: The number\n",
    "    :return: a divisor of n\n",
    "    '''\n",
    "    l = []\n",
    "    for i in range(1, n + 1):\n",
    "        if n % i == 0:\n",
    "            l.append(i)\n",
    "    return random.choice(l)\n",
    "\n",
    "\n",
    "if __name__ =='__main__':\n",
    "    ops = ['+', '-', '*', '/']\n",
    "    start_time = time.time()\n",
    "    total = 0\n",
    "    correct = 0\n",
    "    questions = []\n",
    "    # while seconds is less than 60\n",
    "    while time.time() - start_time <= 60:\n",
    "        a = random.randint(1, 99)\n",
    "        op = random.choice(ops)\n",
    "        if op == '/':\n",
    "            # if op is '/' then b is a divisor of a\n",
    "            b = get_divisor(a)\n",
    "        else:\n",
    "            b = random.randint(1, 99)\n",
    "        # Get the correct answer\n",
    "        a_op_b = '{}{}{}'.format(a, op, b)\n",
    "        c = int(eval(a_op_b))\n",
    "\n",
    "        # Let user input answer\n",
    "        try:\n",
    "            ans = int(input('{} = '.format(a_op_b)))\n",
    "        except:\n",
    "            ans = ''\n",
    "\t\t\n",
    "        # To check if correct or not\n",
    "        if time.time() - start_time <= 60: \n",
    "            if c == ans:\n",
    "                print('Correct! Time remain {} seconds.'.format(int(60 - (time.time() - start_time))))\n",
    "                correct = correct + 1\n",
    "            else:\n",
    "                print('Wrong answer! Time remain {} seconds.'.format(int(60 - (time.time() - start_time))))\n",
    "            total = total + 1\n",
    "            questions.append('{}={}'.format(a_op_b, ans))\n",
    "\n",
    "    print('{} questions and your correct rate is {:.2f}%'.format(total, correct / total * 100))\n",
    "    for q in questions:\n",
    "        print(q)\n"
   ]
  },
  {
   "cell_type": "code",
   "execution_count": null,
   "metadata": {},
   "outputs": [],
   "source": []
  }
 ],
 "metadata": {
  "kernelspec": {
   "display_name": "Python 3 (ipykernel)",
   "language": "python",
   "name": "python3"
  },
  "language_info": {
   "codemirror_mode": {
    "name": "ipython",
    "version": 3
   },
   "file_extension": ".py",
   "mimetype": "text/x-python",
   "name": "python",
   "nbconvert_exporter": "python",
   "pygments_lexer": "ipython3",
   "version": "3.10.9"
  }
 },
 "nbformat": 4,
 "nbformat_minor": 4
}
